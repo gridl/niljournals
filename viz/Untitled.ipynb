{
 "cells": [
  {
   "cell_type": "code",
   "execution_count": 8,
   "metadata": {
    "collapsed": false
   },
   "outputs": [
    {
     "name": "stdout",
     "output_type": "stream",
     "text": [
      "Wrote maps.html\n"
     ]
    }
   ],
   "source": [
    "from __future__ import print_function\n",
    "\n",
    "from bokeh.browserlib import view\n",
    "from bokeh.document import Document\n",
    "from bokeh.embed import file_html\n",
    "from bokeh.models.glyphs import Circle\n",
    "from bokeh.models import (\n",
    "    GMapPlot, Range1d, ColumnDataSource,\n",
    "    PanTool, WheelZoomTool, BoxSelectTool,\n",
    "    BoxSelectionOverlay, GMapOptions)\n",
    "from bokeh.resources import INLINE\n",
    "\n",
    "x_range = Range1d()\n",
    "y_range = Range1d()\n",
    "\n",
    "# JSON style string taken from: https://snazzymaps.com/style/1/pale-dawn\n",
    "map_options = GMapOptions(lat=32.2861, lng=42, map_type=\"roadmap\", zoom=5, styles=\"\"\"\n",
    "[{\"featureType\":\"administrative\",\"elementType\":\"all\",\"stylers\":[{\"visibility\":\"on\"},{\"lightness\":33}]},{\"featureType\":\"landscape\",\"elementType\":\"all\",\"stylers\":[{\"color\":\"#f2e5d4\"}]},{\"featureType\":\"poi.park\",\"elementType\":\"geometry\",\"stylers\":[{\"color\":\"#c5dac6\"}]},{\"featureType\":\"poi.park\",\"elementType\":\"labels\",\"stylers\":[{\"visibility\":\"on\"},{\"lightness\":20}]},{\"featureType\":\"road\",\"elementType\":\"all\",\"stylers\":[{\"lightness\":20}]},{\"featureType\":\"road.highway\",\"elementType\":\"geometry\",\"stylers\":[{\"color\":\"#c5c6c6\"}]},{\"featureType\":\"road.arterial\",\"elementType\":\"geometry\",\"stylers\":[{\"color\":\"#e4d7c6\"}]},{\"featureType\":\"road.local\",\"elementType\":\"geometry\",\"stylers\":[{\"color\":\"#fbfaf7\"}]},{\"featureType\":\"water\",\"elementType\":\"all\",\"stylers\":[{\"visibility\":\"on\"},{\"color\":\"#acbcc9\"}]}]\n",
    "\"\"\")\n",
    "\n",
    "plot = GMapPlot(\n",
    "    x_range=x_range, y_range=y_range,\n",
    "    map_options=map_options,\n",
    "    title=\"Austin\"\n",
    ")\n",
    "\n",
    "source = ColumnDataSource(\n",
    "    data=dict(\n",
    "        lat=[30.2861, 30.2855, 30.2869],\n",
    "        lon=[-97.7394, -97.7390, -97.7405],\n",
    "        fill=['orange', 'blue', 'green']\n",
    "    )\n",
    ")\n",
    "\n",
    "circle = Circle(x=\"lon\", y=\"lat\", size=15, fill_color=\"fill\", line_color=\"black\")\n",
    "plot.add_glyph(source, circle)\n",
    "\n",
    "pan = PanTool()\n",
    "wheel_zoom = WheelZoomTool()\n",
    "box_select = BoxSelectTool()\n",
    "\n",
    "plot.add_tools(pan, wheel_zoom, box_select)\n",
    "overlay = BoxSelectionOverlay(tool=box_select)\n",
    "plot.add_layout(overlay)\n",
    "\n",
    "doc = Document()\n",
    "doc.add(plot)\n",
    "\n",
    "if __name__ == \"__main__\":\n",
    "    filename = \"maps.html\"\n",
    "    with open(filename, \"w\") as f:\n",
    "        f.write(file_html(doc, INLINE, \"Google Maps Example\"))\n",
    "    print(\"Wrote %s\" % filename)\n",
    "    view(filename)"
   ]
  },
  {
   "cell_type": "code",
   "execution_count": null,
   "metadata": {
    "collapsed": true
   },
   "outputs": [],
   "source": []
  }
 ],
 "metadata": {
  "kernelspec": {
   "display_name": "Python 2",
   "language": "python",
   "name": "python2"
  },
  "language_info": {
   "codemirror_mode": {
    "name": "ipython",
    "version": 2
   },
   "file_extension": ".py",
   "mimetype": "text/x-python",
   "name": "python",
   "nbconvert_exporter": "python",
   "pygments_lexer": "ipython2",
   "version": "2.7.10"
  }
 },
 "nbformat": 4,
 "nbformat_minor": 0
}
